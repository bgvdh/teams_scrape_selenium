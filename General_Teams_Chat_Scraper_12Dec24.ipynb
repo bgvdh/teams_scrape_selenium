{
 "cells": [
  {
   "cell_type": "markdown",
   "id": "e1bef734-fc1c-4767-9f5b-db94d10b3339",
   "metadata": {},
   "source": [
    "## Scrape text messages from Teams chat (within a channel)\n",
    "\n",
    "This notebook uses Google Chrome browser, selenium, and chromedriver to scrape the text \n",
    "messages (with timestamp and author) from a chat between members within a teams channel. There is a manual step to enter credentials and two-factor authentication, but once navigated to the correct chat it will automatically scroll back through the history and extract\n",
    "the Timestamp, Author, and Message and save these to three seperate lists. Finally, there are cells to load these lists into a dataframe and save to Excel format.\n",
    "\n",
    "This notebook *does not* extract or save images shared within the chat.\n",
    "\n",
    "### Requirements:\n",
    "- pip install selenium\n",
    "- Chrome browser installed\n",
    "- chromedriver downloaded\n",
    "\n",
    "### Resources: \n",
    "\n",
    "This notebook has been adapted from the following resources which describe the process to extract 'Posts' text from a Teams channel (which uses different selectors to the method in this notebook).\n",
    "\n",
    "- https://blog.stackademic.com/unlocking-data-scraping-teams-channel-using-selenium-in-python-369a390b07e9\n",
    "- https://github.com/alenagorb/teams_channel_scrape_selenium/blob/main/General_Teams_Channel_Scraper.ipynb"
   ]
  },
  {
   "cell_type": "code",
   "execution_count": null,
   "id": "4191f346",
   "metadata": {},
   "outputs": [],
   "source": [
    "#Imports\n",
    "\n",
    "from selenium import webdriver\n",
    "from selenium.webdriver.common.keys import Keys\n",
    "from selenium.webdriver.support import expected_conditions as EC\n",
    "from selenium.webdriver.chrome.service import Service\n",
    "from selenium.webdriver.common.by import By\n",
    "from selenium.webdriver.support.wait import WebDriverWait\n",
    "from selenium.webdriver.common.action_chains import ActionChains\n",
    "\n",
    "import time\n",
    "from datetime import datetime\n",
    "from zoneinfo import ZoneInfo\n",
    "\n",
    "#Load the instance of Chrome Driver from local disk drive\n",
    "opts = webdriver.ChromeOptions()\n",
    "\n",
    "# UPDATE this folder directory where your chromdriver is saved\n",
    "serv = Service(r\"C:\\\\chromedriver-win64\\chromedriver-win64\\chromedriver.exe\") \n",
    "driver = webdriver.Chrome(service=serv, options=opts)\n",
    "driver.maximize_window() # Maximize the browser window\n",
    "time.sleep(5)\n",
    "\n",
    "#Open Teams webpage in Chrome\n",
    "driver.get('https://teams.microsoft.com/v2/') #Teams URL\n",
    "time.sleep(3)\n"
   ]
  },
  {
   "cell_type": "code",
   "execution_count": null,
   "id": "448781ea-d606-4a89-bf8e-f374239821b5",
   "metadata": {},
   "outputs": [],
   "source": [
    "\n",
    "''' \n",
    "This cell is optional but speeds up the Chrome load process if run with the previous cell. \n",
    "It populates the username field and submits which redirects to organisation sign-in page \n",
    "   where you will need to manually enter your credentials and complete the 2FA\n",
    "'''\n",
    "\n",
    "#Target username field\n",
    "username = WebDriverWait(driver, 10).until(EC.element_to_be_clickable((By.CSS_SELECTOR, \"input[name='loginfmt']\")))\n",
    "\n",
    "#Enter username\n",
    "username.clear() # Clear exisiting characters\n",
    "username.send_keys(\"youremail@yourorganisation.com\") # UPDATE to your username for teams\n",
    "\n",
    "# Target the next button and click it\n",
    "WebDriverWait(driver, 10).until(EC.element_to_be_clickable((By.CSS_SELECTOR, \"input[type='submit']\"))).click()\n",
    "time.sleep(3)\n"
   ]
  },
  {
   "cell_type": "markdown",
   "id": "63e29dbe-6a0e-42e0-8231-81198cab39a7",
   "metadata": {},
   "source": [
    "### Manual steps:\n",
    "- Enter credientials and 2FA\n",
    "- Change to appropriate teams channel (top right of window)\n",
    "  "
   ]
  },
  {
   "cell_type": "markdown",
   "id": "1654228e-7a7c-4193-817d-9e6e593d6e97",
   "metadata": {},
   "source": [
    "### Select the correct chat in the left menu\n"
   ]
  },
  {
   "cell_type": "code",
   "execution_count": null,
   "id": "1854c3d5-f69a-48fd-960d-786b1be07b13",
   "metadata": {},
   "outputs": [],
   "source": [
    "\n",
    "# Optional cell - Click on target chat (this is hardcoded for a particular user)\n",
    "\n",
    "target_chat = WebDriverWait(driver, 10).until(EC.element_to_be_clickable((By.XPATH, '//*[@id=\"title-chat-list-item_19:62c95a03-91f0-49db-bb16-fa0a0a16b5b7_c3302ba1-a3d6-46e4-9641-1a0b379934e0@unq.gbl.spaces\"]' ))).click()\n"
   ]
  },
  {
   "cell_type": "code",
   "execution_count": null,
   "id": "156fdac2-9d10-45ff-8106-0b50357c3e0e",
   "metadata": {},
   "outputs": [],
   "source": [
    "\n",
    "# Select the chat pane\n",
    "\n",
    "xpath = '//*[@id=\"chat-pane-list\"]'\n",
    "chatArea = WebDriverWait(driver, 10).until(EC.visibility_of_element_located((By.XPATH, xpath )))\n",
    "chatArea.click()\n"
   ]
  },
  {
   "cell_type": "markdown",
   "id": "089a0589-45ef-40fe-8658-ac40264af204",
   "metadata": {},
   "source": [
    "### Main scraping code\n",
    "\n",
    "1. Ensure the chat to be scraped is selected (cell above)\n",
    "2. Scroll to the bottom of the chat (most recent message)\n",
    "3. Run cell below and do not interact (scroll or click) the Chrome browser that contains the Teams chat. It is ok to open other windows on top."
   ]
  },
  {
   "cell_type": "code",
   "execution_count": null,
   "id": "d05188b9-4960-468a-ba2d-4f23b95f75a4",
   "metadata": {
    "scrolled": true
   },
   "outputs": [],
   "source": [
    "\n",
    "message_list = []\n",
    "author_list = []\n",
    "timestamp_list = []\n",
    "\n",
    "'''\n",
    "\n",
    "When output is enabled, the message timestamp is added to the list and displayed.\n",
    "If there are no more messages to add, the output will show as << SCROLL count: 285, len: 5420, 5420, 5420 >>.\n",
    "Here, 'count' will keep increasing, but the list length remains the same.\n",
    "This pattern will repeat 3 times before a break is triggered and the message \"End of message history\" is displayed\n",
    "\n",
    "'''\n",
    "\n",
    "no_new_messages = 0\n",
    "scroll_count = 0\n",
    "\n",
    "while True:\n",
    "    \n",
    "    # Look for all the elements that match the selectors for message, author, and timestamp\n",
    "    new_message_elements = WebDriverWait(driver, 20).until(EC.presence_of_all_elements_located((By.CSS_SELECTOR, '[data-tid=\"chat-pane-message\"]')))\n",
    "    new_author_elements = WebDriverWait(driver, 20).until(EC.presence_of_all_elements_located((By.CSS_SELECTOR, '[data-tid=\"message-author-name\"]')))\n",
    "    new_timestamp_elements = WebDriverWait(driver, 20).until(EC.presence_of_all_elements_located((By.CSS_SELECTOR, 'time[datetime]')))\n",
    "\n",
    "    # Get the text strings from these elements\n",
    "    new_message_strings = [message.text for message in new_message_elements]\n",
    "    new_author_strings = [author.text for author in new_author_elements]\n",
    "    new_timestamp_strings = [\n",
    "        datetime.fromisoformat(time.get_attribute('datetime').replace('Z', '+00:00'))\n",
    "        .astimezone(ZoneInfo('Australia/Adelaide')) #Update with your timezone\n",
    "        .strftime('%Y-%m-%d %H:%M:%S %Z')\n",
    "        for time in new_timestamp_elements\n",
    "    ]\n",
    "\n",
    "    # Check what elements have been added to the list\n",
    "    \n",
    "    # this loop checks if the timestamp of the new lot of messages is present in the saved list. If a timestamp is not present then the \n",
    "    # the item is added to the timestamp, author, and message lists\n",
    "    for j, item in enumerate(new_timestamp_strings):\n",
    "        \n",
    "        if item not in timestamp_list: \n",
    "            \n",
    "            no_new_messages = 0\n",
    "            # print(message_times[j])\n",
    "            print(item)\n",
    "            \n",
    "            timestamp_list = timestamp_list + [new_timestamp_strings[j]]\n",
    "            author_list = author_list + [new_author_strings[j]]\n",
    "            message_list = message_list + [new_message_strings[j]]\n",
    "\n",
    "    # This scrolls up by simulating the pressing of the HOME key.\n",
    "    WebDriverWait(driver, 20).until(EC.presence_of_element_located((By.TAG_NAME, \"body\"))).send_keys(Keys.HOME)\n",
    "    \n",
    "    # Optional output to monitor progress and list lengths (i.e. will cause mismatch error later)\n",
    "    print(f'SCROLL count: {scroll_count}, len: {len(timestamp_list)}, {len(author_list)}, {len(message_list)}')\n",
    "   \n",
    "    scroll_count += 1  \n",
    "    no_new_messages += 1\n",
    "    print(\"NNM: \", no_new_messages)\n",
    "    \n",
    "    time.sleep(3)\n",
    "\n",
    "    # Attempt to scroll up 3 times before calling break\n",
    "    if no_new_messages == 3:\n",
    "        print(\"End of message history\")\n",
    "        break\n",
    "        \n",
    "    "
   ]
  },
  {
   "cell_type": "code",
   "execution_count": null,
   "id": "4dfc724e-87d4-4220-ae90-9acc7d45ef61",
   "metadata": {},
   "outputs": [],
   "source": [
    "\n",
    "# Optional cell - Check final list lengths are all the same\n",
    "for item in [messages,authors,timestamps]:\n",
    "    print(len(item))\n",
    "    "
   ]
  },
  {
   "cell_type": "markdown",
   "id": "72f809a6-85e4-4f7f-9f39-5edfbe5c8016",
   "metadata": {},
   "source": [
    "### Create Dataframe from lists"
   ]
  },
  {
   "cell_type": "code",
   "execution_count": null,
   "id": "5d77b915-fa99-4d4e-97d9-e5508e829700",
   "metadata": {},
   "outputs": [],
   "source": [
    "\n",
    "import pandas as pd\n",
    "df = pd.DataFrame({'Time': timestamps, 'Author': authors, 'Message': messages})\n",
    "df = df.drop_duplicates(subset=['Time']).sort_values(by='Time', ascending=True).reset_index(drop=True)\n",
    "# df_sorted = df\n",
    "# df_sorted\n",
    "df\n"
   ]
  },
  {
   "cell_type": "markdown",
   "id": "e9a22dcd-4a29-404e-8e9a-55643a6874ef",
   "metadata": {},
   "source": [
    "### Save Dataframe to Excel"
   ]
  },
  {
   "cell_type": "code",
   "execution_count": null,
   "id": "ef26cd5d-f3b7-4b77-8cee-70ed3017f07c",
   "metadata": {},
   "outputs": [],
   "source": [
    "\n",
    "from datetime import datetime\n",
    "now = datetime.now()\n",
    "\n",
    "# UPDATE path and filename to suit\n",
    "path = r'C:\\your_filepath\\\\'\n",
    "filename = 'Chat_Archive_Filename'\n",
    "\n",
    "date_time = now.strftime(\"%Y%m%d\")\n",
    "\n",
    "# to_excel with xlsx format preserves the emojis in message txt\n",
    "df.to_excel(f'{path}{filename}_{date_time}.xlsx', index=False, header=True) \n"
   ]
  }
 ],
 "metadata": {
  "kernelspec": {
   "display_name": "Python 3 (ipykernel)",
   "language": "python",
   "name": "python3"
  },
  "language_info": {
   "codemirror_mode": {
    "name": "ipython",
    "version": 3
   },
   "file_extension": ".py",
   "mimetype": "text/x-python",
   "name": "python",
   "nbconvert_exporter": "python",
   "pygments_lexer": "ipython3",
   "version": "3.12.4"
  }
 },
 "nbformat": 4,
 "nbformat_minor": 5
}
